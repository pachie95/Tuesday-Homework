{
 "cells": [
  {
   "cell_type": "markdown",
   "metadata": {},
   "source": [
    "# Functions, Scoping, Data Collections 1 & List Comprehensions"
   ]
  },
  {
   "cell_type": "markdown",
   "metadata": {},
   "source": [
    "## Tasks Today:\n",
    "\n",
    "<i>Monday Additions (or, and ... if statements)</i>\n",
    "\n",
    "1) String Manipulation <br>\n",
    " &nbsp;&nbsp;&nbsp;&nbsp; a) strip() <br>\n",
    " &nbsp;&nbsp;&nbsp;&nbsp; b) title() <br>\n",
    "2) Working With Lists <br>\n",
    " &nbsp;&nbsp;&nbsp;&nbsp; a) min() <br>\n",
    " &nbsp;&nbsp;&nbsp;&nbsp; b) max() <br>\n",
    " &nbsp;&nbsp;&nbsp;&nbsp; c) sum() <br>\n",
    " &nbsp;&nbsp;&nbsp;&nbsp; d) sort() <br>\n",
    " &nbsp;&nbsp;&nbsp;&nbsp; e) Copying a List <br>\n",
    " &nbsp;&nbsp;&nbsp;&nbsp; f) 'in' keyword <br>\n",
    " &nbsp;&nbsp;&nbsp;&nbsp; g) 'not in' keyword <br>\n",
    " &nbsp;&nbsp;&nbsp;&nbsp; i) Checking an Empty List <br>\n",
    " &nbsp;&nbsp;&nbsp;&nbsp; j) Removing Instances with a Loop <br>\n",
    "3) List Comprehensions <br>\n",
    "4) Tuples <br>\n",
    " &nbsp;&nbsp;&nbsp;&nbsp; a) sorted() <br>\n",
    "5) Functions <br>\n",
    " &nbsp;&nbsp;&nbsp;&nbsp; a) User-Defined vs. Built-In Functions <br>\n",
    " &nbsp;&nbsp;&nbsp;&nbsp; b) Accepting Parameters <br>\n",
    " &nbsp;&nbsp;&nbsp;&nbsp; c) Default Parameters <br>\n",
    " &nbsp;&nbsp;&nbsp;&nbsp; d) Making an Argument Optional <br>\n",
    " &nbsp;&nbsp;&nbsp;&nbsp; e) Keyword Arguments <br>\n",
    " &nbsp;&nbsp;&nbsp;&nbsp; f) Returning Values <br>\n",
    " &nbsp;&nbsp;&nbsp;&nbsp; g) *args <br>\n",
    " &nbsp;&nbsp;&nbsp;&nbsp; h) Docstring <br>\n",
    " &nbsp;&nbsp;&nbsp;&nbsp; i) Using a User Function in a Loop <br>\n",
    "6) Scope"
   ]
  },
  {
   "cell_type": "markdown",
   "metadata": {},
   "source": [
    "### Monday Refreshers"
   ]
  },
  {
   "cell_type": "markdown",
   "metadata": {},
   "source": [
    "##### Using 'or' in if statements"
   ]
  },
  {
   "cell_type": "code",
   "execution_count": null,
   "metadata": {},
   "outputs": [],
   "source": [
    "# covered yesterday"
   ]
  },
  {
   "cell_type": "markdown",
   "metadata": {},
   "source": [
    "##### Using 'and' in if statements"
   ]
  },
  {
   "cell_type": "code",
   "execution_count": null,
   "metadata": {},
   "outputs": [],
   "source": [
    "# covered yesterday"
   ]
  },
  {
   "cell_type": "markdown",
   "metadata": {},
   "source": [
    "##### Using both 'or' and 'and' in if statements"
   ]
  },
  {
   "cell_type": "code",
   "execution_count": null,
   "metadata": {},
   "outputs": [],
   "source": [
    "# covered yesterday"
   ]
  },
  {
   "cell_type": "markdown",
   "metadata": {},
   "source": [
    "### String Manipulation"
   ]
  },
  {
   "cell_type": "markdown",
   "metadata": {},
   "source": [
    "##### .lstrip()"
   ]
  },
  {
   "cell_type": "code",
   "execution_count": 2,
   "metadata": {},
   "outputs": [
    {
     "name": "stdout",
     "output_type": "stream",
     "text": [
      "John Smith\n"
     ]
    }
   ],
   "source": [
    "# string.lstrip()\n",
    "\n",
    "name = \"    John Smith\"\n",
    "print(name.lstrip())"
   ]
  },
  {
   "cell_type": "markdown",
   "metadata": {},
   "source": [
    "##### .rstrip()"
   ]
  },
  {
   "cell_type": "code",
   "execution_count": 3,
   "metadata": {},
   "outputs": [
    {
     "name": "stdout",
     "output_type": "stream",
     "text": [
      "John Smith\n"
     ]
    }
   ],
   "source": [
    "# string.rstrip() \n",
    "\n",
    "name = \"John Smith     \"\n",
    "print(name.rstrip())"
   ]
  },
  {
   "cell_type": "markdown",
   "metadata": {},
   "source": [
    "##### .strip()"
   ]
  },
  {
   "cell_type": "code",
   "execution_count": 4,
   "metadata": {},
   "outputs": [
    {
     "name": "stdout",
     "output_type": "stream",
     "text": [
      "John Smith\n"
     ]
    }
   ],
   "source": [
    "# string.strip()\n",
    "\n",
    "name = \"     John Smith     \"\n",
    "print(name.strip())"
   ]
  },
  {
   "cell_type": "markdown",
   "metadata": {},
   "source": [
    "##### .title()"
   ]
  },
  {
   "cell_type": "code",
   "execution_count": 5,
   "metadata": {},
   "outputs": [
    {
     "name": "stdout",
     "output_type": "stream",
     "text": [
      "John Smith\n"
     ]
    }
   ],
   "source": [
    "# string.title()\n",
    "\n",
    "name = \"john smith\"\n",
    "print(name.title())\n",
    "\n"
   ]
  },
  {
   "cell_type": "markdown",
   "metadata": {},
   "source": [
    "### String Exercise <br>\n",
    "<p>Strip all white space and capitalize every name in the list given</p>"
   ]
  },
  {
   "cell_type": "code",
   "execution_count": 15,
   "metadata": {},
   "outputs": [
    {
     "name": "stdout",
     "output_type": "stream",
     "text": [
      "Connor\n",
      "Max\n",
      "Evan\n",
      "Jordan\n"
     ]
    }
   ],
   "source": [
    "names = ['    coNNor', 'max', ' EVan ', 'JORDAN']\n",
    "\n",
    "\n",
    "for name in names:\n",
    "    print(name.strip().title())"
   ]
  },
  {
   "cell_type": "markdown",
   "metadata": {},
   "source": [
    "### Working With Lists"
   ]
  },
  {
   "cell_type": "markdown",
   "metadata": {},
   "source": [
    "##### min()"
   ]
  },
  {
   "cell_type": "code",
   "execution_count": 16,
   "metadata": {},
   "outputs": [
    {
     "name": "stdout",
     "output_type": "stream",
     "text": [
      "2\n"
     ]
    }
   ],
   "source": [
    "# min(list)\n",
    "\n",
    "numbers = [4, 2, 97, 54, 16]\n",
    "\n",
    "print(min(numbers))"
   ]
  },
  {
   "cell_type": "markdown",
   "metadata": {},
   "source": [
    "##### max()"
   ]
  },
  {
   "cell_type": "code",
   "execution_count": 17,
   "metadata": {},
   "outputs": [
    {
     "name": "stdout",
     "output_type": "stream",
     "text": [
      "97\n"
     ]
    }
   ],
   "source": [
    "# max(list)\n",
    "\n",
    "print(max(numbers))"
   ]
  },
  {
   "cell_type": "markdown",
   "metadata": {},
   "source": [
    "##### sum()"
   ]
  },
  {
   "cell_type": "code",
   "execution_count": 18,
   "metadata": {},
   "outputs": [
    {
     "name": "stdout",
     "output_type": "stream",
     "text": [
      "173\n"
     ]
    }
   ],
   "source": [
    "# sum(list)\n",
    "\n",
    "print(sum(numbers))"
   ]
  },
  {
   "cell_type": "markdown",
   "metadata": {},
   "source": [
    "##### sorted()"
   ]
  },
  {
   "cell_type": "code",
   "execution_count": 19,
   "metadata": {},
   "outputs": [
    {
     "name": "stdout",
     "output_type": "stream",
     "text": [
      "[4, 2, 97, 54, 16]\n",
      "[2, 4, 16, 54, 97]\n"
     ]
    }
   ],
   "source": [
    "# sorted(list)\n",
    "\n",
    "print(numbers)\n",
    "\n",
    "sorted_list = sorted(numbers) #sorted itself does not save to a variable - the Sorted function only makes a copy in memory\n",
    "\n",
    "print(sorted_list)\n"
   ]
  },
  {
   "cell_type": "markdown",
   "metadata": {},
   "source": [
    "##### .sort() <br>\n",
    "<p>Difference between sort and sorted, is that sorted doesn't change original list it returns a copy, while .sort changes the original list</p>"
   ]
  },
  {
   "cell_type": "code",
   "execution_count": 20,
   "metadata": {},
   "outputs": [
    {
     "name": "stdout",
     "output_type": "stream",
     "text": [
      "[4, 2, 97, 54, 16]\n",
      "[2, 4, 16, 54, 97]\n"
     ]
    }
   ],
   "source": [
    "# list.sort()\n",
    "\n",
    "print(numbers)\n",
    "\n",
    "numbers.sort() #inliny/inlplace sorting changes the variable itself\n",
    "\n",
    "print(numbers)\n",
    "\n",
    "\n",
    "# use sorted when you don't want to alter original list, use .sort() when you want to alter original list"
   ]
  },
  {
   "cell_type": "markdown",
   "metadata": {},
   "source": [
    "##### Copying a List"
   ]
  },
  {
   "cell_type": "code",
   "execution_count": 21,
   "metadata": {},
   "outputs": [
    {
     "name": "stdout",
     "output_type": "stream",
     "text": [
      "[2, 4, 16, 54, 97]\n"
     ]
    }
   ],
   "source": [
    "# [:] copies a list, doesn't alter original\n",
    "\n",
    "l_1 = numbers[:] \n",
    "print(l_1)"
   ]
  },
  {
   "cell_type": "markdown",
   "metadata": {},
   "source": [
    "##### 'in' keyword"
   ]
  },
  {
   "cell_type": "code",
   "execution_count": 22,
   "metadata": {},
   "outputs": [
    {
     "name": "stdout",
     "output_type": "stream",
     "text": [
      "Coding Temple Instructor\n"
     ]
    }
   ],
   "source": [
    "l_3 = [\"Conner\", \"Joel\", \"Max\", \"Derek\"]\n",
    "\n",
    "if \"Derek\" in l_3:\n",
    "    print(\"Coding Temple Instructor\")"
   ]
  },
  {
   "cell_type": "markdown",
   "metadata": {},
   "source": [
    "##### 'not in' keyword"
   ]
  },
  {
   "cell_type": "code",
   "execution_count": 23,
   "metadata": {},
   "outputs": [
    {
     "name": "stdout",
     "output_type": "stream",
     "text": [
      "Not a Coding Temple Instructor\n"
     ]
    }
   ],
   "source": [
    "if \"Zack\" not in l_3:\n",
    "    print(\"Not a Coding Temple Instructor\")"
   ]
  },
  {
   "cell_type": "markdown",
   "metadata": {},
   "source": [
    "##### Checking an Empty List"
   ]
  },
  {
   "cell_type": "code",
   "execution_count": 24,
   "metadata": {},
   "outputs": [
    {
     "name": "stdout",
     "output_type": "stream",
     "text": [
      "Empty\n"
     ]
    }
   ],
   "source": [
    "# if l_1: or if l_1 = []\n",
    "\n",
    "l_2 = []\n",
    "if l_2 == []:\n",
    "    print(\"Empty\")"
   ]
  },
  {
   "cell_type": "markdown",
   "metadata": {},
   "source": [
    "##### Removing Instances with a Loop"
   ]
  },
  {
   "cell_type": "code",
   "execution_count": 25,
   "metadata": {},
   "outputs": [
    {
     "name": "stdout",
     "output_type": "stream",
     "text": [
      "['Conner', 'Max', 'Rob']\n"
     ]
    }
   ],
   "source": [
    "# while, remove\n",
    "\n",
    "names = [\"Conner\", \"Max\", \"Evan\", \"Rob\", \"Evan\"]\n",
    "\n",
    "while \"Evan\" in names: \n",
    "    names.remove(\"Evan\")\n",
    "    \n",
    "print(names)"
   ]
  },
  {
   "cell_type": "markdown",
   "metadata": {},
   "source": [
    "### List Exercise <br>\n",
    "<p>Remove all duplicates<br><b>Extra: Create a program that will remove any duplicates from a given list</b></p>"
   ]
  },
  {
   "cell_type": "code",
   "execution_count": 29,
   "metadata": {},
   "outputs": [
    {
     "name": "stdout",
     "output_type": "stream",
     "text": [
      "['connor', 'bob', 'evan', 'max', 2, 3, 4, 'kevin']\n"
     ]
    }
   ],
   "source": [
    "names = ['connor', 'connor', 'bob', 'connor', 'evan', 'max', 'evan', 2, 2, 2, 3, 3, 4, 'bob', 'kevin']\n",
    "\n",
    "no_dups = []\n",
    "\n",
    "for name in names:\n",
    "    if name not in no_dups:\n",
    "        no_dups.append(name)\n",
    "print(no_dups)\n",
    "    \n",
    "\n"
   ]
  },
  {
   "cell_type": "markdown",
   "metadata": {},
   "source": [
    "### List Comprehensions <br>\n",
    "<p>Creating a quickly generated list to work with<br>*result*  = [*transform*    *iteration*         *filter*     ]</p>"
   ]
  },
  {
   "cell_type": "code",
   "execution_count": 33,
   "metadata": {},
   "outputs": [
    {
     "name": "stdout",
     "output_type": "stream",
     "text": [
      "[0, 1, 2, 3, 4, 5, 6, 7, 8, 9, 10, 11, 12, 13, 14, 15, 16, 17, 18, 19, 20, 21, 22, 23, 24, 25, 26, 27, 28, 29, 30, 31, 32, 33, 34, 35, 36, 37, 38, 39, 40, 41, 42, 43, 44, 45, 46, 47, 48, 49, 50, 51, 52, 53, 54, 55, 56, 57, 58, 59, 60, 61, 62, 63, 64, 65, 66, 67, 68, 69, 70, 71, 72, 73, 74, 75, 76, 77, 78, 79, 80, 81, 82, 83, 84, 85, 86, 87, 88, 89, 90, 91, 92, 93, 94, 95, 96, 97, 98, 99]\n",
      "[0, 1, 2, 3, 4, 5, 6, 7, 8, 9, 10, 11, 12, 13, 14, 15, 16, 17, 18, 19, 20, 21, 22, 23, 24, 25, 26, 27, 28, 29, 30, 31, 32, 33, 34, 35, 36, 37, 38, 39, 40, 41, 42, 43, 44, 45, 46, 47, 48, 49, 50, 51, 52, 53, 54, 55, 56, 57, 58, 59, 60, 61, 62, 63, 64, 65, 66, 67, 68, 69, 70, 71, 72, 73, 74, 75, 76, 77, 78, 79, 80, 81, 82, 83, 84, 85, 86, 87, 88, 89, 90, 91, 92, 93, 94, 95, 96, 97, 98, 99]\n"
     ]
    }
   ],
   "source": [
    "# number comprehension\n",
    "\n",
    "\n",
    "nums = []\n",
    "\n",
    "for i in range (100):\n",
    "    nums.append(i)\n",
    "print(nums)\n",
    "\n",
    "# In a list comprehension, we have a few pieces:\n",
    "# The first is the counter otherwise known as the variable - in this example the variable is x\n",
    "# Then we have a transform for the variable \n",
    "# The final part of a list comprehension is called the condition\n",
    "# [variable, transform, condition]\n",
    "nums_comp = [x for x in range(100)]\n",
    "print(nums_comp)"
   ]
  },
  {
   "cell_type": "code",
   "execution_count": 34,
   "metadata": {},
   "outputs": [
    {
     "name": "stdout",
     "output_type": "stream",
     "text": [
      "[0, 1, 4, 9, 16, 25, 36, 49, 64, 81]\n"
     ]
    }
   ],
   "source": [
    "# square number comprehension\n",
    "\n",
    "squares = [x**2 for x in range (10)]\n",
    "\n",
    "print(squares)"
   ]
  },
  {
   "cell_type": "code",
   "execution_count": 37,
   "metadata": {},
   "outputs": [
    {
     "name": "stdout",
     "output_type": "stream",
     "text": [
      "['C', 'M', 'E', 'R']\n",
      "['C', 'M', 'E', 'R']\n"
     ]
    }
   ],
   "source": [
    "# string comprehension\n",
    "\n",
    "names = [\"Connor\", \"Max\", \"Evan\", \"Rob\"]\n",
    "\n",
    "first_char = []\n",
    "\n",
    "for name in names:\n",
    "    first_char.append(name[0])\n",
    "print(first_char)\n",
    "\n",
    "\n",
    "# Here is the list comprehension\n",
    "first_char_comp = [name[0] for name in names]\n",
    "print(first_char_comp)"
   ]
  },
  {
   "cell_type": "code",
   "execution_count": 39,
   "metadata": {},
   "outputs": [
    {
     "name": "stdout",
     "output_type": "stream",
     "text": [
      "['Connor']\n",
      "['Connor']\n"
     ]
    }
   ],
   "source": [
    "# using the 'if' statement ... if statement after for\n",
    "\n",
    "c_names = [name for name in names if name[0] == \"C\"]\n",
    "\n",
    "print(c_names)\n",
    "\n",
    "\n",
    "\n",
    "\n",
    "c_names_long = []\n",
    "\n",
    "for name in names: \n",
    "    if name[0] == \"C\":\n",
    "        c_names_long.append(name)\n",
    "print(c_names_long)"
   ]
  },
  {
   "cell_type": "code",
   "execution_count": 42,
   "metadata": {},
   "outputs": [
    {
     "data": {
      "text/plain": [
       "[[0, 0, 0, 0, 0],\n",
       " [1, 1, 1, 1, 1],\n",
       " [2, 2, 2, 2, 2],\n",
       " [3, 3, 3, 3, 3],\n",
       " [4, 4, 4, 4, 4],\n",
       " [5, 5, 5, 5, 5],\n",
       " [6, 6, 6, 6, 6],\n",
       " [7, 7, 7, 7, 7],\n",
       " [8, 8, 8, 8, 8],\n",
       " [9, 9, 9, 9, 9],\n",
       " [10, 10, 10, 10, 10],\n",
       " [11, 11, 11, 11, 11],\n",
       " [12, 12, 12, 12, 12],\n",
       " [13, 13, 13, 13, 13],\n",
       " [14, 14, 14, 14, 14]]"
      ]
     },
     "execution_count": 42,
     "metadata": {},
     "output_type": "execute_result"
    }
   ],
   "source": [
    "# using multiplication outside the list, list comprehension within list comprehension\n",
    "\n",
    "grid = [[x for num in range (5)] for x in range (15)]\n",
    "\n",
    "grid"
   ]
  },
  {
   "cell_type": "markdown",
   "metadata": {},
   "source": [
    "## List Comprehension Exercise <br>\n",
    "<p>Create a grid of alternating 0's and 1's (5x5 grid)</p>"
   ]
  },
  {
   "cell_type": "code",
   "execution_count": 49,
   "metadata": {},
   "outputs": [
    {
     "data": {
      "text/plain": [
       "[[0, 0, 0, 0, 0],\n",
       " [1, 1, 1, 1, 1],\n",
       " [0, 0, 0, 0, 0],\n",
       " [1, 1, 1, 1, 1],\n",
       " [0, 0, 0, 0, 0]]"
      ]
     },
     "execution_count": 49,
     "metadata": {},
     "output_type": "execute_result"
    }
   ],
   "source": [
    "# hint use %\n",
    "\n",
    "grid = [[row % 2 for col in range (5)] for row in range (5)]\n",
    "\n",
    "\n",
    "grid"
   ]
  },
  {
   "cell_type": "markdown",
   "metadata": {},
   "source": [
    "### Tuples <br>\n",
    "<p><b>Defined as an immutable list</b></p><br>Seperated by commas using parenthesis"
   ]
  },
  {
   "cell_type": "code",
   "execution_count": 51,
   "metadata": {},
   "outputs": [
    {
     "ename": "TypeError",
     "evalue": "'tuple' object does not support item assignment",
     "output_type": "error",
     "traceback": [
      "\u001b[1;31m---------------------------------------------------------------------------\u001b[0m",
      "\u001b[1;31mTypeError\u001b[0m                                 Traceback (most recent call last)",
      "\u001b[1;32m<ipython-input-51-93fa4fe3670c>\u001b[0m in \u001b[0;36m<module>\u001b[1;34m\u001b[0m\n\u001b[0;32m      5\u001b[0m \u001b[1;33m\u001b[0m\u001b[0m\n\u001b[0;32m      6\u001b[0m \u001b[0mtype\u001b[0m\u001b[1;33m(\u001b[0m\u001b[0mt\u001b[0m\u001b[1;33m)\u001b[0m\u001b[1;33m\u001b[0m\u001b[1;33m\u001b[0m\u001b[0m\n\u001b[1;32m----> 7\u001b[1;33m \u001b[0mt\u001b[0m\u001b[1;33m[\u001b[0m\u001b[1;36m0\u001b[0m\u001b[1;33m]\u001b[0m\u001b[1;33m=\u001b[0m\u001b[1;36m5\u001b[0m\u001b[1;33m\u001b[0m\u001b[1;33m\u001b[0m\u001b[0m\n\u001b[0m",
      "\u001b[1;31mTypeError\u001b[0m: 'tuple' object does not support item assignment"
     ]
    }
   ],
   "source": [
    "# can be defined with or without parens (try is instance)\n",
    "# type()\n",
    "# Tuples cannot be changed\n",
    "t = 1,2,3\n",
    "t_1 = (1,2,3)\n",
    "\n",
    "type(t)"
   ]
  },
  {
   "cell_type": "markdown",
   "metadata": {},
   "source": [
    "##### sorted()"
   ]
  },
  {
   "cell_type": "code",
   "execution_count": 53,
   "metadata": {},
   "outputs": [
    {
     "name": "stdout",
     "output_type": "stream",
     "text": [
      "[1, 3, 5, 9, 20, 45]\n"
     ]
    }
   ],
   "source": [
    "# sorted(tuple) ... returns a list\n",
    "\n",
    "t_2 = (20, 5, 1, 3, 9, 45)\n",
    "sorted_tup = sorted(t_2)\n",
    "print(sorted_tup)"
   ]
  },
  {
   "cell_type": "markdown",
   "metadata": {},
   "source": [
    "##### Adding values to a Tuple"
   ]
  },
  {
   "cell_type": "code",
   "execution_count": 55,
   "metadata": {},
   "outputs": [
    {
     "name": "stdout",
     "output_type": "stream",
     "text": [
      "(1, 2, 3)\n",
      "(1, 2, 3, 5)\n"
     ]
    }
   ],
   "source": [
    "print(t)\n",
    "\n",
    "t = t + (5,)\n",
    "\n",
    "print(t)"
   ]
  },
  {
   "cell_type": "markdown",
   "metadata": {},
   "source": [
    "## Functions"
   ]
  },
  {
   "cell_type": "markdown",
   "metadata": {},
   "source": [
    "##### User-Defined vs. Built-In Functions"
   ]
  },
  {
   "cell_type": "code",
   "execution_count": 58,
   "metadata": {},
   "outputs": [
    {
     "name": "stdout",
     "output_type": "stream",
     "text": [
      "Hello World\n"
     ]
    }
   ],
   "source": [
    "# Built in Functions = range()\n",
    "\n",
    "def sayHello():\n",
    "    print(\"Hello World\")\n",
    "    \n",
    "# TO call a funtion \n",
    "\n",
    "sayHello()"
   ]
  },
  {
   "cell_type": "markdown",
   "metadata": {},
   "source": [
    "##### Accepting Parameters"
   ]
  },
  {
   "cell_type": "code",
   "execution_count": 64,
   "metadata": {},
   "outputs": [
    {
     "name": "stdout",
     "output_type": "stream",
     "text": [
      "Hello Joel Carter\n"
     ]
    }
   ],
   "source": [
    "# order matters\n",
    "# can take in any type of variable\n",
    "\n",
    "# def sayHello(name):\n",
    "#     print('Hello {}'.format(name))\n",
    "    \n",
    "# sayHello('Connor')\n",
    "\n",
    "def printFullName(first_name,last_name):\n",
    "    print(\"Hello {} {}\".format(first_name,last_name))\n",
    "    \n",
    "printFullName(\"Joel\",\"Carter\")\n"
   ]
  },
  {
   "cell_type": "markdown",
   "metadata": {},
   "source": [
    "##### Default Parameters"
   ]
  },
  {
   "cell_type": "code",
   "execution_count": 65,
   "metadata": {},
   "outputs": [
    {
     "name": "stdout",
     "output_type": "stream",
     "text": [
      "Hello 007 Bond James\n"
     ]
    }
   ],
   "source": [
    "# default paramaters need to be after non-default parameters at all times\n",
    "def printAgentName(first, middle=\"007\", last=\"Bond\"):\n",
    "    print(\"Hello {} {} {}\".format(middle,last,first))\n",
    "    \n",
    "printAgentName(\"James\")\n"
   ]
  },
  {
   "cell_type": "markdown",
   "metadata": {},
   "source": [
    "##### Making an Argument Optional"
   ]
  },
  {
   "cell_type": "code",
   "execution_count": 68,
   "metadata": {},
   "outputs": [
    {
     "name": "stdout",
     "output_type": "stream",
     "text": [
      "Hello Mr Ed \n",
      "Hello Mr Ed Wilber\n"
     ]
    }
   ],
   "source": [
    "# name=''\n",
    "def printHorseName(first, middle=\"\", last=\"Ed\"):\n",
    "    print(\"Hello {} {} {}\".format(first,last,middle))\n",
    "    \n",
    "printHorseName(\"Mr\")\n",
    "\n",
    "printHorseName(\"Mr\",middle=\"Wilber\")\n"
   ]
  },
  {
   "cell_type": "markdown",
   "metadata": {},
   "source": [
    "##### Keyword Arguments"
   ]
  },
  {
   "cell_type": "code",
   "execution_count": null,
   "metadata": {},
   "outputs": [],
   "source": [
    "# last_name='Max', first_name='Smith' in the function call\n",
    "\n",
    "# see above"
   ]
  },
  {
   "cell_type": "markdown",
   "metadata": {},
   "source": [
    "# Creating a start, stop, step function"
   ]
  },
  {
   "cell_type": "code",
   "execution_count": 70,
   "metadata": {},
   "outputs": [
    {
     "name": "stdout",
     "output_type": "stream",
     "text": [
      "50\n",
      "52\n",
      "54\n",
      "56\n",
      "58\n",
      "60\n",
      "62\n",
      "64\n",
      "66\n",
      "68\n",
      "70\n",
      "72\n",
      "74\n",
      "76\n",
      "78\n",
      "80\n",
      "82\n",
      "84\n",
      "86\n",
      "88\n",
      "90\n",
      "92\n",
      "94\n",
      "96\n",
      "98\n"
     ]
    }
   ],
   "source": [
    "# def my_range(stop, start=0, step=1):\n",
    "\n",
    "def my_range(stop,start=0,step=1):\n",
    "    for i in range(start,stop,step):\n",
    "        print(i)\n",
    "        \n",
    "my_range(100,50,2)\n"
   ]
  },
  {
   "cell_type": "markdown",
   "metadata": {},
   "source": [
    "##### Returning Values"
   ]
  },
  {
   "cell_type": "code",
   "execution_count": 73,
   "metadata": {},
   "outputs": [
    {
     "data": {
      "text/plain": [
       "10"
      ]
     },
     "execution_count": 73,
     "metadata": {},
     "output_type": "execute_result"
    }
   ],
   "source": [
    "# using the return keyword, returns a certain value back to where the function was called\n",
    "\n",
    "def add_nums(num1, num2):\n",
    "    return num1 + num2\n",
    "add_nums(5,5)"
   ]
  },
  {
   "cell_type": "markdown",
   "metadata": {},
   "source": [
    "##### *args"
   ]
  },
  {
   "cell_type": "code",
   "execution_count": 75,
   "metadata": {},
   "outputs": [
    {
     "name": "stdout",
     "output_type": "stream",
     "text": [
      "3\n",
      "4\n",
      "('Hello', 'BetaMax', True, False, 67, 54)\n",
      "Hello\n",
      "BetaMax\n",
      "True\n",
      "False\n",
      "67\n",
      "54\n"
     ]
    }
   ],
   "source": [
    "# stands for arguments, takes any number of arguments as parameters\n",
    "# must be last if multiple parameters\n",
    "\n",
    "def printArgs(num1,num2, *args):\n",
    "    print(num1)\n",
    "    print(num2)\n",
    "    print(args)\n",
    "    for arg in args:\n",
    "        print(arg)\n",
    "        \n",
    "printArgs(3, 4, \"Hello\", \"BetaMax\", True, False, 67, 54)"
   ]
  },
  {
   "cell_type": "markdown",
   "metadata": {},
   "source": [
    "##### Docstring"
   ]
  },
  {
   "cell_type": "code",
   "execution_count": 78,
   "metadata": {},
   "outputs": [
    {
     "name": "stdout",
     "output_type": "stream",
     "text": [
      "George\n",
      "Ramon\n",
      "Peter\n",
      "Help on function printNames in module __main__:\n",
      "\n",
      "printNames(l_1)\n",
      "    This function prints out all elements inside of a list\n",
      "\n"
     ]
    }
   ],
   "source": [
    "# description of function, used with ''' ''' and accessed via function.__doc__\n",
    "\"\"\"\n",
    "THIS IS A DOCSTRING TO DOCUMENT YOUR CODE\n",
    "\n",
    "\"\"\"\n",
    "\n",
    "names = [\"George\", \"Ramon\", \"Peter\"]\n",
    "\n",
    "def printNames(l_1):\n",
    "    \"\"\"\n",
    "        This function prints out all elements inside of a list\n",
    "    \"\"\"\n",
    "    for name in l_1:\n",
    "        print(name)\n",
    "printNames(names)\n",
    "help(printNames)"
   ]
  },
  {
   "cell_type": "markdown",
   "metadata": {},
   "source": [
    "##### Using a User Function in a Loop"
   ]
  },
  {
   "cell_type": "code",
   "execution_count": null,
   "metadata": {},
   "outputs": [
    {
     "name": "stdout",
     "output_type": "stream",
     "text": [
      "Are you ready to quit?no\n",
      "What do you want?paper\n",
      "paper\n",
      "Ready yet?quit\n"
     ]
    }
   ],
   "source": [
    "# add two lists together via index\n",
    "\n",
    "def printInput(answer): \n",
    "    print(answer)\n",
    " \n",
    " #for i in range(3):\n",
    "    #ans = input (\"What do you want to print?\")\n",
    "    #printInput(answer)\n",
    "    \n",
    "response = input(\"Are you ready to quit?\")\n",
    "while True:\n",
    "    ask = input(\"What do you want?\")\n",
    "    printInput(ask)\n",
    "    respose = input(\"Ready yet?\")\n",
    "    if response.lower() == \"quit\":\n",
    "        break\n"
   ]
  },
  {
   "cell_type": "markdown",
   "metadata": {},
   "source": [
    "## Function Exercise <br>\n",
    "<p>Write a function that loops through a list of first_names and a list of last_names, combines the two and return a list of full_names</p>"
   ]
  },
  {
   "cell_type": "code",
   "execution_count": 1,
   "metadata": {},
   "outputs": [
    {
     "data": {
      "text/plain": [
       "['John Smith', 'Evan Smith', 'Jordan Williams', 'Max Bell']"
      ]
     },
     "execution_count": 1,
     "metadata": {},
     "output_type": "execute_result"
    }
   ],
   "source": [
    "first_name = ['John', 'Evan', 'Jordan', 'Max']\n",
    "last_name = ['Smith', 'Smith', 'Williams', 'Bell']\n",
    "\n",
    "def printNames (l_1, l_2):\n",
    "    name = []\n",
    "    for i in range(len(l_1)):\n",
    "        name.append(l_1[i]+ \" \" + l_2[i])\n",
    "    return name\n",
    "\n",
    "printNames(first_name, last_name)\n",
    "    \n"
   ]
  },
  {
   "cell_type": "markdown",
   "metadata": {},
   "source": [
    "## Scope <br>\n",
    "<p>Scope refers to the ability to access variables, different types of scope include:<br>a) Global<br>b) Function (local)<br>c) Class (local)</p>"
   ]
  },
  {
   "cell_type": "code",
   "execution_count": 2,
   "metadata": {},
   "outputs": [
    {
     "name": "stdout",
     "output_type": "stream",
     "text": [
      "6\n"
     ]
    }
   ],
   "source": [
    "# placement of variable declaration matters\n",
    "\n",
    "num = 3 # global variable\n",
    "\n",
    "def myFunc():\n",
    "    num3 = 6\n",
    "    return num3\n",
    "# print(num3) # This will give a name error - Not Defined\n",
    "\n",
    "num2 = myFunc()\n",
    "print(num2)\n",
    "\n"
   ]
  },
  {
   "cell_type": "markdown",
   "metadata": {},
   "source": [
    "# Exercises"
   ]
  },
  {
   "cell_type": "markdown",
   "metadata": {},
   "source": [
    "## Exercise 1 <br>\n",
    "<p>Given a list as a parameter,write a function that returns a list of numbers that are less than ten</b></i></p><br>\n",
    "<p> For example: Say your input parameter to the function is [1,11,14,5,8,9]...Your output should [1,5,8,9]</p>"
   ]
  },
  {
   "cell_type": "code",
   "execution_count": 3,
   "metadata": {},
   "outputs": [
    {
     "name": "stdout",
     "output_type": "stream",
     "text": [
      "2\n",
      "4\n",
      "3\n",
      "8\n",
      "9\n"
     ]
    }
   ],
   "source": [
    "numbers_list = [2, 4, 3, 54, 17, 8, 82, 9, 70]\n",
    "\n",
    "def under_10(numbers_list):\n",
    "    for number in numbers_list:\n",
    "        if number < 10:\n",
    "            print(number)\n",
    "        else:\n",
    "            continue\n",
    "under_10(numbers_list)"
   ]
  },
  {
   "cell_type": "code",
   "execution_count": 6,
   "metadata": {},
   "outputs": [
    {
     "name": "stdout",
     "output_type": "stream",
     "text": [
      "['Bob', 'Kevin', 'Paula', 'Rita']\n"
     ]
    }
   ],
   "source": []
  },
  {
   "cell_type": "markdown",
   "metadata": {},
   "source": [
    "## Exercise 2 <br>\n",
    "<p>Write a function that takes in two lists and returns the two lists merged together and sorted<br>\n",
    "<b><i>Hint: You can use the .sort() method</i></b></p>"
   ]
  },
  {
   "cell_type": "code",
   "execution_count": 7,
   "metadata": {},
   "outputs": [
    {
     "name": "stdout",
     "output_type": "stream",
     "text": [
      "['Bob', 'Kevin', 'Paula', 'Rita']\n"
     ]
    }
   ],
   "source": [
    "# def merged(aList, bList):\n",
    "#     return sorted(aList + bList)\n",
    "\n",
    "# adds up lists together by index and returns sum of each index in sorted order\n",
    "\n",
    "def printListMerge(l_1, l_2):\n",
    "    merged_list = []\n",
    "    sorted_list = []\n",
    "\n",
    "    merged_list = l_1 + l_2\n",
    "    sorted_list = sorted(merged_list)\n",
    "\n",
    "    print(sorted_list)\n",
    "\n",
    "printListMerge([\"Kevin\", \"Bob\"], [\"Rita\", \"Paula\"])\n"
   ]
  },
  {
   "cell_type": "markdown",
   "metadata": {},
   "source": [
    "## Exercise 3 <br>\n",
    "<p> Ask the user to input a number and check if that number is prime using a function, loop (using a WHILE Loop) until they no longer want to check a number.<br><b><i>Hint: Use yesterday's prime number code</i></b></p>"
   ]
  },
  {
   "cell_type": "code",
   "execution_count": 3,
   "metadata": {},
   "outputs": [
    {
     "name": "stdout",
     "output_type": "stream",
     "text": [
      "Type quit at any time to stop\n",
      "What number do you want to check?5\n",
      "Prime Number\n",
      "Type quit at any time to stop\n",
      "What number do you want to check?1\n",
      "Not a prime Number\n",
      "Type quit at any time to stop\n",
      "What number do you want to check?13\n",
      "Prime Number\n",
      "Type quit at any time to stop\n",
      "What number do you want to check?55\n",
      "Not a prime Number\n",
      "Type quit at any time to stop\n",
      "What number do you want to check?17\n",
      "Prime Number\n",
      "Type quit at any time to stop\n",
      "What number do you want to check?.5\n",
      "You did not give me a whole number, please try again!\n",
      "Type quit at any time to stop\n",
      "What number do you want to check?quit\n"
     ]
    }
   ],
   "source": [
    "def primeNumber(num):\n",
    "    if num < 2:\n",
    "        return False\n",
    "    # Keep track of true / false, and will become true if the unmber is prime\n",
    "    prime = False\n",
    "    for i in range(2, num):\n",
    "        if num % i == 0: \n",
    "            break\n",
    "    else: \n",
    "        prime = True\n",
    "    return prime\n",
    "while True: \n",
    "    print(\"Type quit at any time to stop\")\n",
    "    ans = input(\"What number do you want to check?\")\n",
    "    \n",
    "    if ans.lower() == \"quit\":\n",
    "        break\n",
    "    else: \n",
    "        try:\n",
    "            # trying to conver input into integer, will fail if anything but whole number\n",
    "            ans = int(ans)\n",
    "            result = primeNumber(ans)\n",
    "            \n",
    "            if result == True: \n",
    "                print(\"Prime Number\")\n",
    "                \n",
    "            else: \n",
    "                print(\"Not a prime Number\")\n",
    "                \n",
    "        except:\n",
    "            print(\"You did not give me a whole number, please try again!\")"
   ]
  },
  {
   "cell_type": "markdown",
   "metadata": {},
   "source": [
    "# Exercise 4<br>\n",
    "<p>Create a calculator using functions that asks for two numbers and performs a calculation that the user inputs... Loop until the user chooses not to perform any more calculations.<br><b><i>Hint: Take yesterday's code from the extra exercise...</i></b></p>"
   ]
  },
  {
   "cell_type": "code",
   "execution_count": null,
   "metadata": {},
   "outputs": [],
   "source": []
  }
 ],
 "metadata": {
  "kernelspec": {
   "display_name": "Python 3",
   "language": "python",
   "name": "python3"
  },
  "language_info": {
   "codemirror_mode": {
    "name": "ipython",
    "version": 3
   },
   "file_extension": ".py",
   "mimetype": "text/x-python",
   "name": "python",
   "nbconvert_exporter": "python",
   "pygments_lexer": "ipython3",
   "version": "3.7.3"
  }
 },
 "nbformat": 4,
 "nbformat_minor": 2
}
